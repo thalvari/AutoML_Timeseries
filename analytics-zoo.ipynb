{
 "cells": [
  {
   "cell_type": "code",
   "execution_count": 1,
   "metadata": {},
   "outputs": [
    {
     "name": "stdout",
     "output_type": "stream",
     "text": [
      "Prepending /projappl/project_2003107/anaconda3/envs/analytics-zoo/lib/python3.6/site-packages/bigdl/share/conf/spark-bigdl.conf to sys.path\n",
      "Adding /projappl/project_2003107/anaconda3/envs/analytics-zoo/lib/python3.6/site-packages/zoo/share/lib/analytics-zoo-bigdl_0.10.0-spark_2.4.3-0.8.1-jar-with-dependencies.jar to BIGDL_JARS\n",
      "Prepending /projappl/project_2003107/anaconda3/envs/analytics-zoo/lib/python3.6/site-packages/zoo/share/conf/spark-analytics-zoo.conf to sys.path\n"
     ]
    }
   ],
   "source": [
    "import logging\n",
    "import multiprocessing as mp\n",
    "import os\n",
    "import random as rn\n",
    "from tempfile import TemporaryDirectory\n",
    "import warnings\n",
    "\n",
    "warnings.filterwarnings(\"ignore\")\n",
    "\n",
    "import matplotlib.pyplot as plt\n",
    "import numpy as np\n",
    "import pandas as pd\n",
    "import seaborn as sns\n",
    "import tensorflow as tf\n",
    "import yfinance as yf\n",
    "from IPython.display import display\n",
    "from sklearn.metrics import mean_squared_error, r2_score\n",
    "from sklearn.model_selection import TimeSeriesSplit, train_test_split\n",
    "from sklearn.preprocessing import Normalizer\n",
    "from zoo import init_spark_on_local\n",
    "from zoo.automl.config.recipe import BayesRecipe, LSTMGridRandomRecipe\n",
    "from zoo.automl.regression.time_sequence_predictor import TimeSequencePredictor\n",
    "from zoo.ray import RayContext\n",
    "\n",
    "seed = 42\n",
    "sns.set()\n",
    "\n",
    "def reset_seed():\n",
    "    os.environ[\"PYTHONHASHSEED\"] = str(seed)\n",
    "    np.random.seed(seed)\n",
    "    rn.seed(seed)\n",
    "    tf.set_random_seed(seed)"
   ]
  },
  {
   "cell_type": "code",
   "execution_count": null,
   "metadata": {},
   "outputs": [],
   "source": [
    "# data = pd.read_csv(\"AirPassengers.csv\")\n",
    "# data = pd.read_csv(\"data/nyc_energy.csv\")[:-81][:1000]\n",
    "# data = pd.read_csv(\"data/nyc_taxi.csv\")[:2000]\n",
    "data = yf.download(\"GOOG\").reset_index()[-1000:]\n",
    "# data = pd.read_csv(\"data/temperature.csv\")[1:-792]\n",
    "\n",
    "print(data.columns)\n",
    "\n",
    "# target = \"#Passengers\"\n",
    "# dt, target = \"timeStamp\", \"demand\"\n",
    "# target = \"value\"\n",
    "dt, target = \"Date\", \"Adj Close\"\n",
    "# target = \"Tel Aviv District\"\n",
    "print(data.shape, data[target].isna().sum())\n",
    "\n",
    "data[dt] = pd.to_datetime(data[dt])\n",
    "data = data.set_index(dt)\n",
    "display(data)\n",
    "data = data[[target]]\n",
    "data = data.resample(\"d\").mean().interpolate()\n",
    "print(data.shape, data[target].isna().sum())\n",
    "\n",
    "plt.figure(figsize=(12, 5))\n",
    "sns.lineplot(x=data.index, y=target, data=data)\n",
    "plt.tight_layout()\n",
    "plt.show()"
   ]
  },
  {
   "cell_type": "code",
   "execution_count": null,
   "metadata": {},
   "outputs": [],
   "source": [
    "x_train, x_test, y_train, y_test = train_test_split(data.index.values, data[target].values,\n",
    "                                                    shuffle=False, test_size=.2)\n",
    "# x_train = x_train.reshape(-1, 1)\n",
    "# x_test = x_test.reshape(-1, 1)\n",
    "\n",
    "# y_train_mean = np.mean(y_train)\n",
    "# y_train_std = np.std(y_train)\n",
    "# y_train = (y_train - y_train_mean) / y_train_std\n",
    "# y_test = (y_test - y_train_mean) / y_train_std\n",
    "\n",
    "df_train = pd.DataFrame({dt: x_train, target: y_train})\n",
    "df_test = pd.DataFrame({dt: x_test, target: y_test})\n",
    "display(df_train, df_test)"
   ]
  },
  {
   "cell_type": "code",
   "execution_count": 2,
   "metadata": {},
   "outputs": [],
   "source": [
    "results_path = TemporaryDirectory(prefix=\"ray_results_\", dir=os.environ[\"TMPDIR\"]).name\n",
    "tmp_path = TemporaryDirectory(prefix=\"ray_tmp_\", dir=os.environ[\"TMPDIR\"]).name"
   ]
  },
  {
   "cell_type": "code",
   "execution_count": 3,
   "metadata": {},
   "outputs": [
    {
     "name": "stdout",
     "output_type": "stream",
     "text": [
      "Current pyspark location is : /projappl/project_2003107/anaconda3/envs/analytics-zoo/lib/python3.6/site-packages/pyspark/__init__.py\n",
      "Start to getOrCreate SparkContext\n"
     ]
    },
    {
     "name": "stderr",
     "output_type": "stream",
     "text": [
      "2020-08-20 12:23:30,190\tWARNING worker.py:1337 -- WARNING: Not updating worker name since `setproctitle` is not installed. Install this with `pip install setproctitle` (or ray[debug]) to enable monitoring of worker processes.\n",
      "2020-08-20 12:23:30,193\tINFO node.py:498 -- Process STDOUT and STDERR is being redirected to /tmp/ray/session_2020-08-20_12-23-30_193073_152093/logs.\n"
     ]
    },
    {
     "name": "stdout",
     "output_type": "stream",
     "text": [
      "Successfully got a SparkContext\n"
     ]
    },
    {
     "name": "stderr",
     "output_type": "stream",
     "text": [
      "2020-08-20 12:23:30,379\tINFO services.py:409 -- Waiting for redis server at 127.0.0.1:11270 to respond...\n",
      "2020-08-20 12:23:30,633\tINFO services.py:409 -- Waiting for redis server at 127.0.0.1:10911 to respond...\n",
      "2020-08-20 12:23:30,664\tINFO services.py:806 -- Starting Redis shard with 10.0 GB max memory.\n",
      "2020-08-20 12:23:30,799\tINFO node.py:512 -- Process STDOUT and STDERR is being redirected to /tmp/ray/session_2020-08-20_12-23-30_193073_152093/logs.\n",
      "2020-08-20 12:23:30,803\tWARNING services.py:1298 -- Warning: Capping object memory store to 20.0GB. To increase this further, specify `object_store_memory` when calling ray.init() or ray start.\n",
      "2020-08-20 12:23:30,806\tINFO services.py:1446 -- Starting the Plasma object store with 20.0 GB memory using /dev/shm.\n"
     ]
    },
    {
     "ename": "AssertionError",
     "evalue": "",
     "output_type": "error",
     "traceback": [
      "\u001b[0;31m---------------------------------------------------------------------------\u001b[0m",
      "\u001b[0;31mAssertionError\u001b[0m                            Traceback (most recent call last)",
      "\u001b[0;32m<ipython-input-3-d717d9e8290a>\u001b[0m in \u001b[0;36m<module>\u001b[0;34m\u001b[0m\n\u001b[1;32m      1\u001b[0m \u001b[0msc\u001b[0m \u001b[0;34m=\u001b[0m \u001b[0minit_spark_on_local\u001b[0m\u001b[0;34m(\u001b[0m\u001b[0mcores\u001b[0m\u001b[0;34m=\u001b[0m\u001b[0mmp\u001b[0m\u001b[0;34m.\u001b[0m\u001b[0mcpu_count\u001b[0m\u001b[0;34m(\u001b[0m\u001b[0;34m)\u001b[0m\u001b[0;34m)\u001b[0m\u001b[0;34m\u001b[0m\u001b[0;34m\u001b[0m\u001b[0m\n\u001b[1;32m      2\u001b[0m \u001b[0mray_ctx\u001b[0m \u001b[0;34m=\u001b[0m \u001b[0mRayContext\u001b[0m\u001b[0;34m(\u001b[0m\u001b[0msc\u001b[0m\u001b[0;34m=\u001b[0m\u001b[0msc\u001b[0m\u001b[0;34m,\u001b[0m \u001b[0mextra_params\u001b[0m\u001b[0;34m=\u001b[0m\u001b[0;34m{\u001b[0m\u001b[0;34m\"local_dir\"\u001b[0m\u001b[0;34m:\u001b[0m \u001b[0mresults_path\u001b[0m\u001b[0;34m,\u001b[0m \u001b[0;34m\"temp-dir\"\u001b[0m\u001b[0;34m:\u001b[0m \u001b[0mtmp_path\u001b[0m\u001b[0;34m}\u001b[0m\u001b[0;34m)\u001b[0m\u001b[0;34m\u001b[0m\u001b[0;34m\u001b[0m\u001b[0m\n\u001b[0;32m----> 3\u001b[0;31m \u001b[0mray_ctx\u001b[0m\u001b[0;34m.\u001b[0m\u001b[0minit\u001b[0m\u001b[0;34m(\u001b[0m\u001b[0;34m)\u001b[0m\u001b[0;34m\u001b[0m\u001b[0;34m\u001b[0m\u001b[0m\n\u001b[0m\u001b[1;32m      4\u001b[0m \u001b[0mTimeSequencePredictor\u001b[0m\u001b[0;34m(\u001b[0m\u001b[0;34m)\u001b[0m\u001b[0;34m\u001b[0m\u001b[0;34m\u001b[0m\u001b[0m\n",
      "\u001b[0;32m/projappl/project_2003107/anaconda3/envs/analytics-zoo/lib/python3.6/site-packages/zoo/ray/raycontext.py\u001b[0m in \u001b[0;36minit\u001b[0;34m(self)\u001b[0m\n\u001b[1;32m    300\u001b[0m             ray.init(num_cpus=self.ray_node_cpu_cores,\n\u001b[1;32m    301\u001b[0m                      \u001b[0mobject_store_memory\u001b[0m\u001b[0;34m=\u001b[0m\u001b[0mself\u001b[0m\u001b[0;34m.\u001b[0m\u001b[0mobject_store_memory\u001b[0m\u001b[0;34m,\u001b[0m\u001b[0;34m\u001b[0m\u001b[0;34m\u001b[0m\u001b[0m\n\u001b[0;32m--> 302\u001b[0;31m                      resources=self.extra_params)\n\u001b[0m\u001b[1;32m    303\u001b[0m         \u001b[0;32melse\u001b[0m\u001b[0;34m:\u001b[0m\u001b[0;34m\u001b[0m\u001b[0;34m\u001b[0m\u001b[0m\n\u001b[1;32m    304\u001b[0m             \u001b[0mself\u001b[0m\u001b[0;34m.\u001b[0m\u001b[0m_start_cluster\u001b[0m\u001b[0;34m(\u001b[0m\u001b[0;34m)\u001b[0m\u001b[0;34m\u001b[0m\u001b[0;34m\u001b[0m\u001b[0m\n",
      "\u001b[0;32m/projappl/project_2003107/anaconda3/envs/analytics-zoo/lib/python3.6/site-packages/ray/worker.py\u001b[0m in \u001b[0;36minit\u001b[0;34m(redis_address, num_cpus, num_gpus, resources, object_store_memory, redis_max_memory, log_to_driver, node_ip_address, object_id_seed, local_mode, redirect_worker_output, redirect_output, ignore_reinit_error, num_redis_shards, redis_max_clients, redis_password, plasma_directory, huge_pages, include_webui, job_id, configure_logging, logging_level, logging_format, plasma_store_socket_name, raylet_socket_name, temp_dir, load_code_from_local, _internal_config)\u001b[0m\n\u001b[1;32m   1391\u001b[0m         \u001b[0;31m# handler.\u001b[0m\u001b[0;34m\u001b[0m\u001b[0;34m\u001b[0m\u001b[0;34m\u001b[0m\u001b[0m\n\u001b[1;32m   1392\u001b[0m         _global_node = ray.node.Node(\n\u001b[0;32m-> 1393\u001b[0;31m             head=True, shutdown_at_exit=False, ray_params=ray_params)\n\u001b[0m\u001b[1;32m   1394\u001b[0m     \u001b[0;32melse\u001b[0m\u001b[0;34m:\u001b[0m\u001b[0;34m\u001b[0m\u001b[0;34m\u001b[0m\u001b[0m\n\u001b[1;32m   1395\u001b[0m         \u001b[0;31m# In this case, we are connecting to an existing cluster.\u001b[0m\u001b[0;34m\u001b[0m\u001b[0;34m\u001b[0m\u001b[0;34m\u001b[0m\u001b[0m\n",
      "\u001b[0;32m/projappl/project_2003107/anaconda3/envs/analytics-zoo/lib/python3.6/site-packages/ray/node.py\u001b[0m in \u001b[0;36m__init__\u001b[0;34m(self, ray_params, head, shutdown_at_exit, connect_only)\u001b[0m\n\u001b[1;32m    148\u001b[0m \u001b[0;34m\u001b[0m\u001b[0m\n\u001b[1;32m    149\u001b[0m         \u001b[0;32mif\u001b[0m \u001b[0;32mnot\u001b[0m \u001b[0mconnect_only\u001b[0m\u001b[0;34m:\u001b[0m\u001b[0;34m\u001b[0m\u001b[0;34m\u001b[0m\u001b[0m\n\u001b[0;32m--> 150\u001b[0;31m             \u001b[0mself\u001b[0m\u001b[0;34m.\u001b[0m\u001b[0mstart_ray_processes\u001b[0m\u001b[0;34m(\u001b[0m\u001b[0;34m)\u001b[0m\u001b[0;34m\u001b[0m\u001b[0;34m\u001b[0m\u001b[0m\n\u001b[0m\u001b[1;32m    151\u001b[0m \u001b[0;34m\u001b[0m\u001b[0m\n\u001b[1;32m    152\u001b[0m         \u001b[0;32mif\u001b[0m \u001b[0mshutdown_at_exit\u001b[0m\u001b[0;34m:\u001b[0m\u001b[0;34m\u001b[0m\u001b[0;34m\u001b[0m\u001b[0m\n",
      "\u001b[0;32m/projappl/project_2003107/anaconda3/envs/analytics-zoo/lib/python3.6/site-packages/ray/node.py\u001b[0m in \u001b[0;36mstart_ray_processes\u001b[0;34m(self)\u001b[0m\n\u001b[1;32m    513\u001b[0m \u001b[0;34m\u001b[0m\u001b[0m\n\u001b[1;32m    514\u001b[0m         \u001b[0mself\u001b[0m\u001b[0;34m.\u001b[0m\u001b[0mstart_plasma_store\u001b[0m\u001b[0;34m(\u001b[0m\u001b[0;34m)\u001b[0m\u001b[0;34m\u001b[0m\u001b[0;34m\u001b[0m\u001b[0m\n\u001b[0;32m--> 515\u001b[0;31m         \u001b[0mself\u001b[0m\u001b[0;34m.\u001b[0m\u001b[0mstart_raylet\u001b[0m\u001b[0;34m(\u001b[0m\u001b[0;34m)\u001b[0m\u001b[0;34m\u001b[0m\u001b[0;34m\u001b[0m\u001b[0m\n\u001b[0m\u001b[1;32m    516\u001b[0m         \u001b[0;32mif\u001b[0m \u001b[0mPY3\u001b[0m\u001b[0;34m:\u001b[0m\u001b[0;34m\u001b[0m\u001b[0;34m\u001b[0m\u001b[0m\n\u001b[1;32m    517\u001b[0m             \u001b[0mself\u001b[0m\u001b[0;34m.\u001b[0m\u001b[0mstart_reporter\u001b[0m\u001b[0;34m(\u001b[0m\u001b[0;34m)\u001b[0m\u001b[0;34m\u001b[0m\u001b[0;34m\u001b[0m\u001b[0m\n",
      "\u001b[0;32m/projappl/project_2003107/anaconda3/envs/analytics-zoo/lib/python3.6/site-packages/ray/node.py\u001b[0m in \u001b[0;36mstart_raylet\u001b[0;34m(self, use_valgrind, use_profiler)\u001b[0m\n\u001b[1;32m    450\u001b[0m             \u001b[0minclude_java\u001b[0m\u001b[0;34m=\u001b[0m\u001b[0mself\u001b[0m\u001b[0;34m.\u001b[0m\u001b[0m_ray_params\u001b[0m\u001b[0;34m.\u001b[0m\u001b[0minclude_java\u001b[0m\u001b[0;34m,\u001b[0m\u001b[0;34m\u001b[0m\u001b[0;34m\u001b[0m\u001b[0m\n\u001b[1;32m    451\u001b[0m             \u001b[0mjava_worker_options\u001b[0m\u001b[0;34m=\u001b[0m\u001b[0mself\u001b[0m\u001b[0;34m.\u001b[0m\u001b[0m_ray_params\u001b[0m\u001b[0;34m.\u001b[0m\u001b[0mjava_worker_options\u001b[0m\u001b[0;34m,\u001b[0m\u001b[0;34m\u001b[0m\u001b[0;34m\u001b[0m\u001b[0m\n\u001b[0;32m--> 452\u001b[0;31m             \u001b[0mload_code_from_local\u001b[0m\u001b[0;34m=\u001b[0m\u001b[0mself\u001b[0m\u001b[0;34m.\u001b[0m\u001b[0m_ray_params\u001b[0m\u001b[0;34m.\u001b[0m\u001b[0mload_code_from_local\u001b[0m\u001b[0;34m,\u001b[0m\u001b[0;34m\u001b[0m\u001b[0;34m\u001b[0m\u001b[0m\n\u001b[0m\u001b[1;32m    453\u001b[0m         )\n\u001b[1;32m    454\u001b[0m         \u001b[0;32massert\u001b[0m \u001b[0mray_constants\u001b[0m\u001b[0;34m.\u001b[0m\u001b[0mPROCESS_TYPE_RAYLET\u001b[0m \u001b[0;32mnot\u001b[0m \u001b[0;32min\u001b[0m \u001b[0mself\u001b[0m\u001b[0;34m.\u001b[0m\u001b[0mall_processes\u001b[0m\u001b[0;34m\u001b[0m\u001b[0;34m\u001b[0m\u001b[0m\n",
      "\u001b[0;32m/projappl/project_2003107/anaconda3/envs/analytics-zoo/lib/python3.6/site-packages/ray/services.py\u001b[0m in \u001b[0;36mstart_raylet\u001b[0;34m(redis_address, node_ip_address, raylet_name, plasma_store_name, worker_path, temp_dir, session_dir, num_cpus, num_gpus, resources, object_manager_port, node_manager_port, redis_password, use_valgrind, use_profiler, stdout_file, stderr_file, config, include_java, java_worker_options, load_code_from_local)\u001b[0m\n\u001b[1;32m   1125\u001b[0m \u001b[0;34m\u001b[0m\u001b[0m\n\u001b[1;32m   1126\u001b[0m     static_resources = check_and_update_resources(num_cpus, num_gpus,\n\u001b[0;32m-> 1127\u001b[0;31m                                                   resources)\n\u001b[0m\u001b[1;32m   1128\u001b[0m \u001b[0;34m\u001b[0m\u001b[0m\n\u001b[1;32m   1129\u001b[0m     \u001b[0;31m# Limit the number of workers that can be started in parallel by the\u001b[0m\u001b[0;34m\u001b[0m\u001b[0;34m\u001b[0m\u001b[0;34m\u001b[0m\u001b[0m\n",
      "\u001b[0;32m/projappl/project_2003107/anaconda3/envs/analytics-zoo/lib/python3.6/site-packages/ray/services.py\u001b[0m in \u001b[0;36mcheck_and_update_resources\u001b[0;34m(num_cpus, num_gpus, resources)\u001b[0m\n\u001b[1;32m   1041\u001b[0m     \u001b[0;32mfor\u001b[0m \u001b[0m_\u001b[0m\u001b[0;34m,\u001b[0m \u001b[0mresource_quantity\u001b[0m \u001b[0;32min\u001b[0m \u001b[0mresources\u001b[0m\u001b[0;34m.\u001b[0m\u001b[0mitems\u001b[0m\u001b[0;34m(\u001b[0m\u001b[0;34m)\u001b[0m\u001b[0;34m:\u001b[0m\u001b[0;34m\u001b[0m\u001b[0;34m\u001b[0m\u001b[0m\n\u001b[1;32m   1042\u001b[0m         assert (isinstance(resource_quantity, int)\n\u001b[0;32m-> 1043\u001b[0;31m                 or isinstance(resource_quantity, float))\n\u001b[0m\u001b[1;32m   1044\u001b[0m         if (isinstance(resource_quantity, float)\n\u001b[1;32m   1045\u001b[0m                 and not resource_quantity.is_integer()):\n",
      "\u001b[0;31mAssertionError\u001b[0m: "
     ]
    }
   ],
   "source": [
    "sc = init_spark_on_local(cores=mp.cpu_count())\n",
    "ray_ctx = RayContext(sc=sc, extra_params={\"local_dir\": results_path, \"temp-dir\": tmp_path})\n",
    "ray_ctx.init()\n",
    "TimeSequencePredictor()"
   ]
  },
  {
   "cell_type": "code",
   "execution_count": null,
   "metadata": {},
   "outputs": [],
   "source": [
    "sc = init_spark_on_local(cores=mp.cpu_count(), spark_log_level=\"ERROR\", redirect_spark_log=False)\n",
    "ray_ctx = RayContext(sc=sc)\n",
    "ray_ctx.init()\n",
    "tsp = TimeSequencePredictor(dt_col=dt, target_col=target, future_seq_len=len(df_test))"
   ]
  },
  {
   "cell_type": "code",
   "execution_count": null,
   "metadata": {},
   "outputs": [],
   "source": [
    "reset_seed()\n",
    "\n",
    "max_look_back = len(df_test)\n",
    "pipeline = tsp.fit(df_train, resources_per_trial={\"cpu\": 4}, distributed=False,\n",
    "                   recipe=BayesRecipe(num_samples=100, look_back=(2, max_look_back)))"
   ]
  },
  {
   "cell_type": "code",
   "execution_count": null,
   "metadata": {},
   "outputs": [],
   "source": [
    "df_pred = pipeline.predict(df_train)\n",
    "y_pred = df_pred.iloc[-1][1:].values.astype(float)\n",
    "df_pred"
   ]
  },
  {
   "cell_type": "code",
   "execution_count": null,
   "metadata": {},
   "outputs": [],
   "source": [
    "print(f\"RMSE: {np.sqrt(mean_squared_error(y_test, y_pred))}\")\n",
    "print(f\"R^2: {r2_score(y_test, y_pred)}\")\n",
    "\n",
    "df = pd.DataFrame({dt: df_test[dt].values, \"test\": y_test, \"pred\": y_pred})\n",
    "\n",
    "plt.figure(figsize=(12, 5))\n",
    "sns.lineplot(x=dt, y=target, hue=\"y\", data=df.melt(dt, var_name=\"y\", value_name=target))\n",
    "plt.tight_layout()\n",
    "plt.show()"
   ]
  },
  {
   "cell_type": "code",
   "execution_count": null,
   "metadata": {},
   "outputs": [],
   "source": [
    "ray_ctx.stop()"
   ]
  }
 ],
 "metadata": {
  "kernelspec": {
   "display_name": "Python [conda env:analytics-zoo]",
   "language": "python",
   "name": "conda-env-analytics-zoo-py"
  },
  "language_info": {
   "codemirror_mode": {
    "name": "ipython",
    "version": 3
   },
   "file_extension": ".py",
   "mimetype": "text/x-python",
   "name": "python",
   "nbconvert_exporter": "python",
   "pygments_lexer": "ipython3",
   "version": "3.6.10"
  }
 },
 "nbformat": 4,
 "nbformat_minor": 4
}
