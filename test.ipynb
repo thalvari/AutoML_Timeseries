{
 "cells": [
  {
   "cell_type": "code",
   "execution_count": 1,
   "metadata": {},
   "outputs": [],
   "source": [
    "import multiprocessing as mp\n",
    "import os\n",
    "import random as rn\n",
    "import warnings\n",
    "from glob import glob\n",
    "from pathlib import Path\n",
    "\n",
    "warnings.filterwarnings(\"ignore\")\n",
    "\n",
    "import matplotlib.pyplot as plt\n",
    "import numpy as np\n",
    "import pandas as pd\n",
    "import seaborn as sns\n",
    "import timesynth as ts\n",
    "import yfinance as yf\n",
    "from IPython.display import display\n",
    "from sklearn.metrics import mean_squared_error, r2_score\n",
    "from sklearn.model_selection import train_test_split\n",
    "\n",
    "from run import run_cmd\n",
    "\n",
    "seed = 42\n",
    "sns.set()\n",
    "\n",
    "def reset_seed():\n",
    "    os.environ[\"PYTHONHASHSEED\"] = str(seed)\n",
    "    rn.seed(seed)\n",
    "    np.random.seed(seed)"
   ]
  },
  {
   "cell_type": "code",
   "execution_count": 69,
   "metadata": {},
   "outputs": [],
   "source": [
    "data_name = \"stock\""
   ]
  },
  {
   "cell_type": "code",
   "execution_count": 87,
   "metadata": {},
   "outputs": [
    {
     "name": "stdout",
     "output_type": "stream",
     "text": [
      "Index(['Date', 'Close', 'Volume', 'DTB4WK', 'DTB3', 'DTB6', 'DGS5', 'DGS10',\n",
      "       'Oil', 'Gold', 'DAAA', 'DBAA', 'GBP', 'JPY', 'CAD', 'CNY', 'AAPL',\n",
      "       'AMZN', 'GE', 'JNJ', 'JPM', 'MSFT', 'WFC', 'XOM', 'FCHI', 'FTSE',\n",
      "       'GDAXI', 'GSPC', 'HSI', 'DJI', 'SSEC', 'RUT', 'NYSE', 'TE1', 'TE2',\n",
      "       'TE3', 'TE5', 'TE6', 'DE1', 'DE2', 'DE4', 'DE5', 'DE6', 'CTB3M',\n",
      "       'CTB6M', 'CTB1Y', 'Name', 'AUD', 'Brent', 'CAC-F', 'copper-F',\n",
      "       'WIT-oil', 'DAX-F', 'DJI-F', 'EUR', 'FTSE-F', 'gold-F', 'HSI-F',\n",
      "       'KOSPI-F', 'NASDAQ-F', 'GAS-F', 'Nikkei-F', 'NZD', 'silver-F',\n",
      "       'RUSSELL-F', 'S&P-F', 'CHF', 'Dollar index-F', 'Dollar index',\n",
      "       'wheat-F', 'XAG', 'XAU'],\n",
      "      dtype='object')\n",
      "(1984, 72) [  0   0   1   0   0   0   0   0   1   1   0   0 478 479 483 479   1   1\n",
      "   1   1   1   1   1   1  40  71  67   1 170   1 238   1   1   0   0   0\n",
      "   0   0   0   0   0   0   0   1   1   1   0   0   0   4   0   0   4   0\n",
      "   0   6   0  75  79   0   0   0   0   0   0   0   0   0   0   2   0   0]\n",
      "(2877, 70) [0 0 0 0 0 0 0 0 0 0 0 0 0 0 0 0 0 0 0 0 0 0 0 0 0 0 0 0 0 0 0 0 0 0 0 0 0\n",
      " 0 0 0 0 0 0 0 0 0 0 0 0 0 0 0 0 0 0 0 0 0 0 0 0 0 0 0 0 0 0 0 0 0]\n"
     ]
    }
   ],
   "source": [
    "if data_name == \"nyc_energy\":\n",
    "    data_path = \"data/nyc_energy.csv\"\n",
    "    data = pd.read_csv(data_path)[:-81]\n",
    "    dt, target = \"timeStamp\", \"demand\"\n",
    "elif data_name == \"nyc_taxi\":\n",
    "    data_path = \"data/nyc_taxi.csv\"\n",
    "    data = pd.read_csv(data_path)\n",
    "    dt, target = \"timestamp\", \"value\"\n",
    "elif data_name == \"jena\":\n",
    "    data_path = \"data/jena_climate_2009_2016.csv\"\n",
    "    data = pd.read_csv(data_path)\n",
    "    dt, target = \"Date Time\", \"VPmax (mbar)\"\n",
    "elif data_name == \"stock\":\n",
    "    data_path = \"data/Processed_NASDAQ.csv\"\n",
    "    data = pd.read_csv(data_path).drop([\n",
    "        'mom', 'mom1', 'mom2', 'mom3', 'ROC_5', 'ROC_10', 'ROC_15', 'ROC_20', 'EMA_10',\n",
    "        'EMA_20', 'EMA_50', 'EMA_200'], axis=1)\n",
    "    dt, target = \"Date\", \"Close\"\n",
    "\n",
    "print(data.columns)\n",
    "print(data.shape, data.isna().sum().values)\n",
    "\n",
    "data[dt] = pd.to_datetime(data[dt])\n",
    "data = data.set_index(dt)\n",
    "# data = data[[target]]\n",
    "data = data.resample(\"d\").mean().interpolate()[5:]\n",
    "print(data.shape, data.isna().sum().values)\n",
    "# data = data.reset_index()\n",
    "\n",
    "# display(data)\n",
    "# data.plot(x=dt, y=target, figsize=(13, 5))\n",
    "# plt.tight_layout()\n",
    "# plt.show()"
   ]
  },
  {
   "cell_type": "code",
   "execution_count": null,
   "metadata": {},
   "outputs": [],
   "source": [
    "data.plot(subplots=True, grid=True, layout=(24, 3), figsize=(13, 50), sharex=True)\n",
    "plt.tight_layout()\n",
    "plt.show()"
   ]
  }
 ],
 "metadata": {
  "kernelspec": {
   "display_name": "Python [conda env:main] *",
   "language": "python",
   "name": "conda-env-main-py"
  },
  "language_info": {
   "codemirror_mode": {
    "name": "ipython",
    "version": 3
   },
   "file_extension": ".py",
   "mimetype": "text/x-python",
   "name": "python",
   "nbconvert_exporter": "python",
   "pygments_lexer": "ipython3",
   "version": "3.7.7"
  }
 },
 "nbformat": 4,
 "nbformat_minor": 4
}
